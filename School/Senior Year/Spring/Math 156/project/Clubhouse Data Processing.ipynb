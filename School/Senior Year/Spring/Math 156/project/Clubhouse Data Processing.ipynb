{
 "cells": [
  {
   "cell_type": "code",
   "execution_count": 1,
   "metadata": {},
   "outputs": [],
   "source": [
    "import numpy as np\n",
    "import pandas as pd\n",
    "import sqlite3\n",
    "import networkx as nx"
   ]
  },
  {
   "cell_type": "markdown",
   "metadata": {},
   "source": [
    "Load in data from a sql file"
   ]
  },
  {
   "cell_type": "code",
   "execution_count": 3,
   "metadata": {},
   "outputs": [
    {
     "data": {
      "text/html": [
       "<div>\n",
       "<style scoped>\n",
       "    .dataframe tbody tr th:only-of-type {\n",
       "        vertical-align: middle;\n",
       "    }\n",
       "\n",
       "    .dataframe tbody tr th {\n",
       "        vertical-align: top;\n",
       "    }\n",
       "\n",
       "    .dataframe thead th {\n",
       "        text-align: right;\n",
       "    }\n",
       "</style>\n",
       "<table border=\"1\" class=\"dataframe\">\n",
       "  <thead>\n",
       "    <tr style=\"text-align: right;\">\n",
       "      <th></th>\n",
       "      <th>user_id</th>\n",
       "      <th>invited_by_user_profile</th>\n",
       "    </tr>\n",
       "  </thead>\n",
       "  <tbody>\n",
       "    <tr>\n",
       "      <th>0</th>\n",
       "      <td>4</td>\n",
       "      <td>null</td>\n",
       "    </tr>\n",
       "    <tr>\n",
       "      <th>1</th>\n",
       "      <td>5</td>\n",
       "      <td>null</td>\n",
       "    </tr>\n",
       "    <tr>\n",
       "      <th>2</th>\n",
       "      <td>8</td>\n",
       "      <td>null</td>\n",
       "    </tr>\n",
       "    <tr>\n",
       "      <th>3</th>\n",
       "      <td>10</td>\n",
       "      <td>null</td>\n",
       "    </tr>\n",
       "    <tr>\n",
       "      <th>4</th>\n",
       "      <td>12</td>\n",
       "      <td>null</td>\n",
       "    </tr>\n",
       "  </tbody>\n",
       "</table>\n",
       "</div>"
      ],
      "text/plain": [
       "   user_id invited_by_user_profile\n",
       "0        4                    null\n",
       "1        5                    null\n",
       "2        8                    null\n",
       "3       10                    null\n",
       "4       12                    null"
      ]
     },
     "execution_count": 3,
     "metadata": {},
     "output_type": "execute_result"
    }
   ],
   "source": [
    "cx = sqlite3.connect('Clubhouse_Dataset_v1.db')\n",
    "df = pd.read_sql_query(\"SELECT user_id, invited_by_user_profile FROM user\", cx)\n",
    "cx.commit()\n",
    "cx.close()\n",
    "df.head()"
   ]
  },
  {
   "cell_type": "markdown",
   "metadata": {},
   "source": [
    "I can construct an adjacency matrix out of this to create a network that's purely a tree"
   ]
  },
  {
   "cell_type": "code",
   "execution_count": 4,
   "metadata": {},
   "outputs": [],
   "source": [
    "G = nx.DiGraph()"
   ]
  },
  {
   "cell_type": "code",
   "execution_count": 19,
   "metadata": {},
   "outputs": [
    {
     "data": {
      "text/plain": [
       "(1300515, 2)"
      ]
     },
     "execution_count": 19,
     "metadata": {},
     "output_type": "execute_result"
    }
   ],
   "source": [
    "df.shape"
   ]
  },
  {
   "cell_type": "code",
   "execution_count": 21,
   "metadata": {},
   "outputs": [],
   "source": [
    "G.add_nodes_from(list(df.user_id[df.invited_by_user_profile == \"null\"]))"
   ]
  },
  {
   "cell_type": "code",
   "execution_count": 48,
   "metadata": {},
   "outputs": [
    {
     "data": {
      "text/html": [
       "<div>\n",
       "<style scoped>\n",
       "    .dataframe tbody tr th:only-of-type {\n",
       "        vertical-align: middle;\n",
       "    }\n",
       "\n",
       "    .dataframe tbody tr th {\n",
       "        vertical-align: top;\n",
       "    }\n",
       "\n",
       "    .dataframe thead th {\n",
       "        text-align: right;\n",
       "    }\n",
       "</style>\n",
       "<table border=\"1\" class=\"dataframe\">\n",
       "  <thead>\n",
       "    <tr style=\"text-align: right;\">\n",
       "      <th></th>\n",
       "      <th>invited_by_user_profile</th>\n",
       "      <th>user_id</th>\n",
       "    </tr>\n",
       "  </thead>\n",
       "  <tbody>\n",
       "    <tr>\n",
       "      <th>758</th>\n",
       "      <td>4</td>\n",
       "      <td>924</td>\n",
       "    </tr>\n",
       "    <tr>\n",
       "      <th>885</th>\n",
       "      <td>3712</td>\n",
       "      <td>1122</td>\n",
       "    </tr>\n",
       "    <tr>\n",
       "      <th>907</th>\n",
       "      <td>4</td>\n",
       "      <td>1150</td>\n",
       "    </tr>\n",
       "    <tr>\n",
       "      <th>910</th>\n",
       "      <td>658</td>\n",
       "      <td>1159</td>\n",
       "    </tr>\n",
       "    <tr>\n",
       "      <th>1063</th>\n",
       "      <td>843</td>\n",
       "      <td>1372</td>\n",
       "    </tr>\n",
       "  </tbody>\n",
       "</table>\n",
       "</div>"
      ],
      "text/plain": [
       "     invited_by_user_profile  user_id\n",
       "758                        4      924\n",
       "885                     3712     1122\n",
       "907                        4     1150\n",
       "910                      658     1159\n",
       "1063                     843     1372"
      ]
     },
     "execution_count": 48,
     "metadata": {},
     "output_type": "execute_result"
    }
   ],
   "source": [
    "invited_users = df[df.invited_by_user_profile != \"null\"]\n",
    "invited_users = invited_users[[\"invited_by_user_profile\", \"user_id\"]]\n",
    "invited_users.head()"
   ]
  },
  {
   "cell_type": "code",
   "execution_count": 49,
   "metadata": {},
   "outputs": [],
   "source": [
    "G.add_edges_from(list(invited_users.to_records(index=False)))"
   ]
  },
  {
   "cell_type": "markdown",
   "metadata": {},
   "source": [
    "The inviter points to the invitee. "
   ]
  },
  {
   "cell_type": "code",
   "execution_count": 51,
   "metadata": {},
   "outputs": [],
   "source": [
    "A = nx.adjacency_matrix(G)"
   ]
  },
  {
   "cell_type": "code",
   "execution_count": 54,
   "metadata": {},
   "outputs": [
    {
     "data": {
      "text/plain": [
       "<1x1387036 sparse matrix of type '<class 'numpy.int64'>'\n",
       "\twith 94 stored elements in Compressed Sparse Row format>"
      ]
     },
     "execution_count": 54,
     "metadata": {},
     "output_type": "execute_result"
    }
   ],
   "source": [
    "A[0]"
   ]
  },
  {
   "cell_type": "code",
   "execution_count": 57,
   "metadata": {},
   "outputs": [],
   "source": [
    "import scipy.sparse as sps\n",
    "from sklearn.decomposition import NMF\n",
    "from time import perf_counter as pc"
   ]
  },
  {
   "cell_type": "code",
   "execution_count": 58,
   "metadata": {},
   "outputs": [
    {
     "name": "stdout",
     "output_type": "stream",
     "text": [
      "violation: 1.0\n",
      "violation: 2.4515839503942343\n",
      "violation: 0.6789664339535688\n",
      "violation: 0.16675330078659364\n",
      "violation: 0.07087539835365612\n",
      "violation: 0.049065207915235734\n",
      "violation: 0.028022450258062406\n",
      "violation: 0.012539289173823505\n",
      "violation: 0.007957582994436389\n",
      "violation: 0.005733953871539183\n",
      "violation: 0.004422446260048363\n",
      "violation: 0.003594947263595929\n",
      "violation: 0.0030474389225726927\n",
      "violation: 0.0026764516350247084\n",
      "violation: 0.0024124886682194754\n",
      "violation: 0.00220308618250206\n",
      "violation: 0.0020133626450922833\n",
      "violation: 0.001826713423506082\n",
      "violation: 0.001639112265955028\n",
      "violation: 0.0014508180379691836\n",
      "violation: 0.0012658959609367817\n",
      "violation: 0.0010924118664484177\n",
      "violation: 0.0009373646000404563\n",
      "violation: 0.0008039892858840406\n",
      "violation: 0.0006922333610288159\n",
      "violation: 0.0006000988154002191\n",
      "violation: 0.000524797292060911\n",
      "violation: 0.0004634653677213709\n",
      "violation: 0.00041351352209605184\n",
      "violation: 0.0003736251367642584\n",
      "violation: 0.00034103815164826957\n",
      "violation: 0.00031429252700968386\n",
      "violation: 0.0002922747673131227\n",
      "violation: 0.0002741000237826382\n",
      "violation: 0.0002590637294758368\n",
      "violation: 0.0002466019869084961\n",
      "violation: 0.00023626006554567974\n",
      "violation: 0.0002276677376682398\n",
      "violation: 0.00022052013804962952\n",
      "violation: 0.00021456300859735964\n",
      "violation: 0.00020958141635234827\n",
      "violation: 0.00020539124191612052\n",
      "violation: 0.00020183290046228662\n",
      "violation: 0.00019876687516731824\n",
      "violation: 0.00019607071554787866\n",
      "violation: 0.00019363719118801475\n",
      "violation: 0.00019137330555878216\n",
      "violation: 0.00018919987814473277\n",
      "violation: 0.00018705140996041976\n",
      "violation: 0.00018487596916310083\n",
      "violation: 0.00018263487686936094\n",
      "violation: 0.00018030203884850844\n",
      "violation: 0.0001779281977982178\n",
      "violation: 0.0001757294972874015\n",
      "violation: 0.0001734442795878367\n",
      "violation: 0.00017105860066469762\n",
      "violation: 0.00016858525899187638\n",
      "violation: 0.00016603917151942373\n",
      "violation: 0.00016343569816799333\n",
      "violation: 0.0001607893054700062\n",
      "violation: 0.0001581126080009892\n",
      "violation: 0.00015541578385157488\n",
      "violation: 0.00015270632754669144\n",
      "violation: 0.00014998908267515538\n",
      "violation: 0.00014726648663985172\n",
      "violation: 0.00014453895930572255\n",
      "violation: 0.0001418053731887281\n",
      "violation: 0.00013906355247831769\n",
      "violation: 0.0001363107594198893\n",
      "violation: 0.00013354413779116762\n",
      "violation: 0.00013076109342129792\n",
      "violation: 0.0001279596004203853\n",
      "violation: 0.00012513842886537172\n",
      "violation: 0.00012229729516963518\n",
      "violation: 0.00011943694041373533\n",
      "violation: 0.0001165591447211975\n",
      "violation: 0.00011366668752242448\n",
      "violation: 0.00011076326443833441\n",
      "violation: 0.0001078533716974913\n",
      "violation: 0.00010494216861600672\n",
      "violation: 0.0001020353278521783\n",
      "violation: 9.913888202001025e-05\n",
      "Converged at iteration 82\n"
     ]
    }
   ],
   "source": [
    "model = NMF(n_components=50, init='random', random_state=0, verbose=True)\n",
    "\n",
    "start_time = pc()\n",
    "W = model.fit_transform(A)\n",
    "end_time = pc()"
   ]
  },
  {
   "cell_type": "code",
   "execution_count": 63,
   "metadata": {},
   "outputs": [],
   "source": [
    "H = model.components_"
   ]
  },
  {
   "cell_type": "markdown",
   "metadata": {},
   "source": [
    "W is the dictionary which is 1387036 x 50\n",
    "\n",
    "\n",
    "H is the coordinates which is 50 x 1387036\n",
    "\n",
    "\n",
    "\n",
    "uhhhhhh ok now what..."
   ]
  },
  {
   "cell_type": "code",
   "execution_count": null,
   "metadata": {},
   "outputs": [],
   "source": []
  }
 ],
 "metadata": {
  "kernelspec": {
   "display_name": "Python 3",
   "language": "python",
   "name": "python3"
  },
  "language_info": {
   "codemirror_mode": {
    "name": "ipython",
    "version": 3
   },
   "file_extension": ".py",
   "mimetype": "text/x-python",
   "name": "python",
   "nbconvert_exporter": "python",
   "pygments_lexer": "ipython3",
   "version": "3.6.9"
  }
 },
 "nbformat": 4,
 "nbformat_minor": 4
}
